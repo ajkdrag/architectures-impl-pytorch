{
 "cells": [
  {
   "cell_type": "code",
   "execution_count": 1,
   "id": "02c586d6-111d-497e-93c3-1010d6c96a58",
   "metadata": {},
   "outputs": [],
   "source": [
    "import sys\n",
    "from pathlib import Path"
   ]
  },
  {
   "cell_type": "code",
   "execution_count": 2,
   "id": "d7b18681-2392-4cd4-ad21-3a508a431fc9",
   "metadata": {},
   "outputs": [],
   "source": [
    "%load_ext autoreload\n",
    "%autoreload 3 -p\n",
    "%matplotlib inline"
   ]
  },
  {
   "cell_type": "markdown",
   "id": "aa9bfa5e-c0b9-4010-a3a0-96bc1813f167",
   "metadata": {},
   "source": [
    "## imports"
   ]
  },
  {
   "cell_type": "code",
   "execution_count": 3,
   "id": "48783312-e3e6-4117-a166-96b84d62bb5c",
   "metadata": {},
   "outputs": [],
   "source": [
    "import torch\n",
    "from torch import nn"
   ]
  },
  {
   "cell_type": "code",
   "execution_count": 5,
   "id": "fc3a4fc5-8282-4ebc-998c-11c9143c5a20",
   "metadata": {},
   "outputs": [],
   "source": [
    "import yolov1\n",
    "from yolov1.config import parse_config"
   ]
  },
  {
   "cell_type": "code",
   "execution_count": 15,
   "id": "e65b7a3b-3d9d-4a94-899b-48be0da1b0a5",
   "metadata": {},
   "outputs": [],
   "source": [
    "from yolov1.data.dataset import YOLODataset"
   ]
  },
  {
   "cell_type": "markdown",
   "id": "a73ff7b7-8147-43a3-98a7-9f05827144f2",
   "metadata": {},
   "source": [
    "## config"
   ]
  },
  {
   "cell_type": "code",
   "execution_count": 55,
   "id": "6a0e887a-ca40-49e5-bad8-12f9bb17bbe1",
   "metadata": {},
   "outputs": [
    {
     "name": "stdout",
     "output_type": "stream",
     "text": [
      "Reloading 'yolov1'.\n"
     ]
    }
   ],
   "source": [
    "config_path = \"../yolov1/src/yolov1/configs/default.yaml\""
   ]
  },
  {
   "cell_type": "code",
   "execution_count": 56,
   "id": "ff1a32ae-9887-423d-b368-662a714d32d6",
   "metadata": {},
   "outputs": [],
   "source": [
    "config = parse_config(config_file=config_path)"
   ]
  },
  {
   "cell_type": "markdown",
   "id": "5662f72b-c965-48e9-8116-999f3f5074fb",
   "metadata": {},
   "source": [
    "## dataset"
   ]
  },
  {
   "cell_type": "code",
   "execution_count": 57,
   "id": "d2bd2c13-2bfd-4347-9e51-56103e3c06c1",
   "metadata": {},
   "outputs": [
    {
     "name": "stdout",
     "output_type": "stream",
     "text": [
      "\u001b[2m2024-05-02T16:47:47.255715Z\u001b[0m [\u001b[32m\u001b[1minfo     \u001b[0m] \u001b[1mLoaded 250 samples            \u001b[0m \u001b[36mfunc_name\u001b[0m=\u001b[35m__init__\u001b[0m \u001b[36mlineno\u001b[0m=\u001b[35m25\u001b[0m\n"
     ]
    }
   ],
   "source": [
    "val_ds = YOLODataset(config, mode=\"val\")"
   ]
  },
  {
   "cell_type": "code",
   "execution_count": 62,
   "id": "64ae4c12-aa3d-4844-ad81-3c723aa77f89",
   "metadata": {},
   "outputs": [
    {
     "data": {
      "text/plain": [
       "tensor([[2.0000, 0.0385, 0.8245, 0.0769, 0.3462],\n",
       "        [2.0000, 0.1743, 0.4760, 0.3474, 0.2620],\n",
       "        [2.0000, 0.4675, 0.3714, 0.0493, 0.0661],\n",
       "        [2.0000, 0.6346, 0.4291, 0.1575, 0.2392],\n",
       "        [2.0000, 0.8101, 0.7332, 0.3786, 0.5325],\n",
       "        [2.0000, 0.7933, 0.3594, 0.0349, 0.0829],\n",
       "        [2.0000, 0.9159, 0.3918, 0.1659, 0.1791],\n",
       "        [2.0000, 0.8798, 0.2981, 0.0180, 0.0325],\n",
       "        [2.0000, 0.9123, 0.2993, 0.0192, 0.0168],\n",
       "        [2.0000, 0.9159, 0.2776, 0.0168, 0.0192]])"
      ]
     },
     "execution_count": 62,
     "metadata": {},
     "output_type": "execute_result"
    }
   ],
   "source": [
    "val_ds[0][1]"
   ]
  },
  {
   "cell_type": "markdown",
   "id": "994350fe-301f-480c-8e46-469aa69f1dd6",
   "metadata": {},
   "source": [
    "## dataloader"
   ]
  },
  {
   "cell_type": "code",
   "execution_count": null,
   "id": "3b9ca95e-295e-4f20-95b6-efac06f02156",
   "metadata": {},
   "outputs": [],
   "source": []
  },
  {
   "cell_type": "markdown",
   "id": "7d9d2f7a-e417-49e1-b9b7-909ef582f6e5",
   "metadata": {},
   "source": [
    "## arch"
   ]
  },
  {
   "cell_type": "markdown",
   "id": "33ff11ad-331b-4dad-8081-0e3097464eaa",
   "metadata": {},
   "source": [
    "## train"
   ]
  },
  {
   "cell_type": "markdown",
   "id": "3e586987-ca64-4e5a-ab76-71a756fd7185",
   "metadata": {},
   "source": [
    "## persist"
   ]
  },
  {
   "cell_type": "markdown",
   "id": "430e74e3-20c8-43d3-8369-35f0bcecb595",
   "metadata": {},
   "source": [
    "## infer"
   ]
  },
  {
   "cell_type": "code",
   "execution_count": null,
   "id": "80d4473f-c4fd-4f21-90d6-cedcf1ce7a11",
   "metadata": {},
   "outputs": [],
   "source": []
  }
 ],
 "metadata": {
  "kernelspec": {
   "display_name": "Python 3 (ipykernel)",
   "language": "python",
   "name": "python3"
  },
  "language_info": {
   "codemirror_mode": {
    "name": "ipython",
    "version": 3
   },
   "file_extension": ".py",
   "mimetype": "text/x-python",
   "name": "python",
   "nbconvert_exporter": "python",
   "pygments_lexer": "ipython3",
   "version": "3.9.2"
  }
 },
 "nbformat": 4,
 "nbformat_minor": 5
}
