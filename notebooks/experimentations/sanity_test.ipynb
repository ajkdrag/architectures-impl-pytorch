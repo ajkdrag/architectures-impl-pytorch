{
 "cells": [
  {
   "cell_type": "code",
   "execution_count": 12,
   "id": "32f28dea-bdd5-44a3-9095-16077d7bd7af",
   "metadata": {},
   "outputs": [],
   "source": [
    "import sys\n",
    "from pathlib import Path\n",
    "import numpy as np"
   ]
  },
  {
   "cell_type": "markdown",
   "id": "980f389b-82be-4933-b24f-4f705cb2cf18",
   "metadata": {},
   "source": [
    "## load ds"
   ]
  },
  {
   "cell_type": "code",
   "execution_count": 51,
   "id": "b98dcd84-f025-4ce5-8f5e-bacc1fc3fa67",
   "metadata": {},
   "outputs": [],
   "source": [
    "path_labels = \"../../.data/test/labels/\""
   ]
  },
  {
   "cell_type": "code",
   "execution_count": 52,
   "id": "1606b630-3fa3-4826-b194-958b906fd436",
   "metadata": {},
   "outputs": [
    {
     "data": {
      "text/plain": [
       "126"
      ]
     },
     "execution_count": 52,
     "metadata": {},
     "output_type": "execute_result"
    }
   ],
   "source": [
    "len(list(Path(path_labels).iterdir()))"
   ]
  },
  {
   "cell_type": "code",
   "execution_count": 53,
   "id": "e9ec7d09-a413-45d5-9250-a39c4a8e2c43",
   "metadata": {},
   "outputs": [],
   "source": [
    "for path_label in Path(path_labels).iterdir():\n",
    "    content = path_label.open().read().splitlines()\n",
    "    assert len(content) > 0\n",
    "    boxes = list(map(lambda x: x.split(\" \"), content))\n",
    "    arr = np.array(boxes).astype(np.float32)\n",
    "    assert ((arr[:, 1:] >= 0) & (arr[:, 1:] <= 1)).all()\n",
    "    assert ((arr[:, 0:1] >= 0) & (arr[:, 0:1] <= 4)).all()"
   ]
  },
  {
   "cell_type": "code",
   "execution_count": null,
   "id": "72c6b579-bb3c-4026-9150-fd898c243ea4",
   "metadata": {},
   "outputs": [],
   "source": []
  }
 ],
 "metadata": {
  "kernelspec": {
   "display_name": "Python 3 (ipykernel)",
   "language": "python",
   "name": "python3"
  },
  "language_info": {
   "codemirror_mode": {
    "name": "ipython",
    "version": 3
   },
   "file_extension": ".py",
   "mimetype": "text/x-python",
   "name": "python",
   "nbconvert_exporter": "python",
   "pygments_lexer": "ipython3",
   "version": "3.9.2"
  }
 },
 "nbformat": 4,
 "nbformat_minor": 5
}
