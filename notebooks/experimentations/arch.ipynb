{
 "cells": [
  {
   "cell_type": "code",
   "execution_count": 3,
   "id": "6c2579c3-e143-451d-9c59-73f955866b98",
   "metadata": {},
   "outputs": [],
   "source": [
    "import sys\n",
    "from pathlib import Path"
   ]
  },
  {
   "cell_type": "code",
   "execution_count": 4,
   "id": "9aee10e5-58f2-431b-bc28-d0312cbac678",
   "metadata": {},
   "outputs": [],
   "source": [
    "%load_ext autoreload\n",
    "%autoreload 3 -p\n",
    "%matplotlib inline"
   ]
  },
  {
   "cell_type": "markdown",
   "id": "d57cc333-1551-4ff8-8884-0c7ec8a290cc",
   "metadata": {},
   "source": [
    "## imports"
   ]
  },
  {
   "cell_type": "code",
   "execution_count": 5,
   "id": "d8e8d074-bc74-45e2-9b6b-1e84c116971c",
   "metadata": {},
   "outputs": [],
   "source": [
    "import pprint"
   ]
  },
  {
   "cell_type": "code",
   "execution_count": 6,
   "id": "fd10a845-ce51-491e-aa69-32f76b4e2065",
   "metadata": {},
   "outputs": [],
   "source": [
    "import torch\n",
    "import torchvision\n",
    "from torch import nn"
   ]
  },
  {
   "cell_type": "code",
   "execution_count": 7,
   "id": "ee7f9dbf-782e-4fca-a367-0d2d3e1ceeef",
   "metadata": {},
   "outputs": [],
   "source": [
    "from yolov1.models.backbone_factory import BackboneFactory"
   ]
  },
  {
   "cell_type": "code",
   "execution_count": 8,
   "id": "556aa6e7-a6f4-4480-9d0b-a1b3d4f6fd7a",
   "metadata": {},
   "outputs": [],
   "source": [
    "import yolov1\n",
    "from yolov1.config import parse_config"
   ]
  },
  {
   "cell_type": "markdown",
   "id": "cd00864b-f3f9-4ed9-a2f2-136959c12c29",
   "metadata": {},
   "source": [
    "## configs"
   ]
  },
  {
   "cell_type": "code",
   "execution_count": 65,
   "id": "859061b2-121b-4a4e-81bc-09f5952a4df9",
   "metadata": {},
   "outputs": [],
   "source": [
    "def load_config():\n",
    "    config_path = \"../../yolov1/src/yolov1/configs/default.yaml\"\n",
    "    config = parse_config(config_file=config_path)\n",
    "    pprint.pp(config.dict())\n",
    "    return config"
   ]
  },
  {
   "cell_type": "code",
   "execution_count": 66,
   "id": "777481c7-1b99-4862-8bcf-5b61b9e3b100",
   "metadata": {},
   "outputs": [
    {
     "name": "stdout",
     "output_type": "stream",
     "text": [
      "{'data': {'root': '/home/ajkdrag/workspace/projects/architectures-impl-pytorch/.data',\n",
      "          'train': 'train',\n",
      "          'val': 'valid',\n",
      "          'names': ['Ambulance', 'Bus', 'Car', 'Motorcycle', 'Truck'],\n",
      "          'augmentations': {'apply': False,\n",
      "                            'horizontal_flip': 0.8,\n",
      "                            'vertical_flip': 0.0,\n",
      "                            'brightness_contrast': 0.8,\n",
      "                            'shift_scale_rotate': 0.0,\n",
      "                            'random_crop': 0.0,\n",
      "                            'random_crop_dims': (448.0, 448.0)}},\n",
      " 'training': {'epochs': 200,\n",
      "              'dls_kwargs': {'pin_memory': True,\n",
      "                             'batch_size': 32,\n",
      "                             'drop_last': True,\n",
      "                             'num_workers': 2},\n",
      "              'optim_kwargs': {'lr': 0.0001, 'weight_decay': 0.0001},\n",
      "              'checkpoints_dir': '/home/ajkdrag/workspace/projects/architectures-impl-pytorch/checkpoints',\n",
      "              'save_freq': 20,\n",
      "              'val_freq': 10,\n",
      "              'loss': {'l_coord': 5.0,\n",
      "                       'l_obj': 1.5,\n",
      "                       'l_noobj': 0.5,\n",
      "                       'l_class': 1.0}},\n",
      " 'inference': {'checkpoint': '/home/ajkdrag/workspace/projects/architectures-impl-pytorch/checkpoints/final_epoch_100.pt',\n",
      "               'source': '/home/ajkdrag/workspace/projects/architectures-impl-pytorch/.data/valid/images',\n",
      "               'dls_kwargs': {'pin_memory': False,\n",
      "                              'batch_size': 4,\n",
      "                              'drop_last': False,\n",
      "                              'num_workers': 2},\n",
      "               'conf_th': 0.4},\n",
      " 'model': {'backbone': 'resnet18',\n",
      "           'pretrained': True,\n",
      "           'freeze_backbone': True,\n",
      "           'detector_hidden_sizes': (2048,),\n",
      "           'input_size': (224, 224),\n",
      "           'S': 7,\n",
      "           'B': 1,\n",
      "           'nc': 5}}\n"
     ]
    }
   ],
   "source": [
    "config = load_config()"
   ]
  },
  {
   "cell_type": "markdown",
   "id": "38e60a68-701f-4b1d-afb9-eab6dfe2a430",
   "metadata": {},
   "source": [
    "## arch"
   ]
  },
  {
   "cell_type": "code",
   "execution_count": 67,
   "id": "df4df6b1-5b75-4f0c-980c-773f160f0daa",
   "metadata": {},
   "outputs": [],
   "source": [
    "from yolov1.models.arch import YOLOv1"
   ]
  },
  {
   "cell_type": "code",
   "execution_count": 74,
   "id": "81434cf2-b107-42bb-8b08-6c61605950d4",
   "metadata": {},
   "outputs": [],
   "source": [
    "config.model.freeze_backbone = False"
   ]
  },
  {
   "cell_type": "code",
   "execution_count": 75,
   "id": "60d32d97-1560-4f91-bc4e-06b5d5278764",
   "metadata": {},
   "outputs": [
    {
     "name": "stdout",
     "output_type": "stream",
     "text": [
      "Loading pretrained weights from Hugging Face hub (timm/resnet18.a1_in1k)\n",
      "[timm/resnet18.a1_in1k] Safe alternative available for 'pytorch_model.bin' (as 'model.safetensors'). Loading weights using safetensors.\n"
     ]
    }
   ],
   "source": [
    "model = YOLOv1(config.model)"
   ]
  },
  {
   "cell_type": "code",
   "execution_count": 76,
   "id": "ff81472f-ae3e-4410-9cb1-aabacf53ddf9",
   "metadata": {},
   "outputs": [
    {
     "data": {
      "text/plain": [
       "YOLOv1(\n",
       "  (backbone): ResNet(\n",
       "    (conv1): Conv2d(3, 64, kernel_size=(7, 7), stride=(2, 2), padding=(3, 3), bias=False)\n",
       "    (bn1): BatchNorm2d(64, eps=1e-05, momentum=0.1, affine=True, track_running_stats=True)\n",
       "    (act1): ReLU(inplace=True)\n",
       "    (maxpool): MaxPool2d(kernel_size=3, stride=2, padding=1, dilation=1, ceil_mode=False)\n",
       "    (layer1): Sequential(\n",
       "      (0): BasicBlock(\n",
       "        (conv1): Conv2d(64, 64, kernel_size=(3, 3), stride=(1, 1), padding=(1, 1), bias=False)\n",
       "        (bn1): BatchNorm2d(64, eps=1e-05, momentum=0.1, affine=True, track_running_stats=True)\n",
       "        (drop_block): Identity()\n",
       "        (act1): ReLU(inplace=True)\n",
       "        (aa): Identity()\n",
       "        (conv2): Conv2d(64, 64, kernel_size=(3, 3), stride=(1, 1), padding=(1, 1), bias=False)\n",
       "        (bn2): BatchNorm2d(64, eps=1e-05, momentum=0.1, affine=True, track_running_stats=True)\n",
       "        (act2): ReLU(inplace=True)\n",
       "      )\n",
       "      (1): BasicBlock(\n",
       "        (conv1): Conv2d(64, 64, kernel_size=(3, 3), stride=(1, 1), padding=(1, 1), bias=False)\n",
       "        (bn1): BatchNorm2d(64, eps=1e-05, momentum=0.1, affine=True, track_running_stats=True)\n",
       "        (drop_block): Identity()\n",
       "        (act1): ReLU(inplace=True)\n",
       "        (aa): Identity()\n",
       "        (conv2): Conv2d(64, 64, kernel_size=(3, 3), stride=(1, 1), padding=(1, 1), bias=False)\n",
       "        (bn2): BatchNorm2d(64, eps=1e-05, momentum=0.1, affine=True, track_running_stats=True)\n",
       "        (act2): ReLU(inplace=True)\n",
       "      )\n",
       "    )\n",
       "    (layer2): Sequential(\n",
       "      (0): BasicBlock(\n",
       "        (conv1): Conv2d(64, 128, kernel_size=(3, 3), stride=(2, 2), padding=(1, 1), bias=False)\n",
       "        (bn1): BatchNorm2d(128, eps=1e-05, momentum=0.1, affine=True, track_running_stats=True)\n",
       "        (drop_block): Identity()\n",
       "        (act1): ReLU(inplace=True)\n",
       "        (aa): Identity()\n",
       "        (conv2): Conv2d(128, 128, kernel_size=(3, 3), stride=(1, 1), padding=(1, 1), bias=False)\n",
       "        (bn2): BatchNorm2d(128, eps=1e-05, momentum=0.1, affine=True, track_running_stats=True)\n",
       "        (act2): ReLU(inplace=True)\n",
       "        (downsample): Sequential(\n",
       "          (0): Conv2d(64, 128, kernel_size=(1, 1), stride=(2, 2), bias=False)\n",
       "          (1): BatchNorm2d(128, eps=1e-05, momentum=0.1, affine=True, track_running_stats=True)\n",
       "        )\n",
       "      )\n",
       "      (1): BasicBlock(\n",
       "        (conv1): Conv2d(128, 128, kernel_size=(3, 3), stride=(1, 1), padding=(1, 1), bias=False)\n",
       "        (bn1): BatchNorm2d(128, eps=1e-05, momentum=0.1, affine=True, track_running_stats=True)\n",
       "        (drop_block): Identity()\n",
       "        (act1): ReLU(inplace=True)\n",
       "        (aa): Identity()\n",
       "        (conv2): Conv2d(128, 128, kernel_size=(3, 3), stride=(1, 1), padding=(1, 1), bias=False)\n",
       "        (bn2): BatchNorm2d(128, eps=1e-05, momentum=0.1, affine=True, track_running_stats=True)\n",
       "        (act2): ReLU(inplace=True)\n",
       "      )\n",
       "    )\n",
       "    (layer3): Sequential(\n",
       "      (0): BasicBlock(\n",
       "        (conv1): Conv2d(128, 256, kernel_size=(3, 3), stride=(2, 2), padding=(1, 1), bias=False)\n",
       "        (bn1): BatchNorm2d(256, eps=1e-05, momentum=0.1, affine=True, track_running_stats=True)\n",
       "        (drop_block): Identity()\n",
       "        (act1): ReLU(inplace=True)\n",
       "        (aa): Identity()\n",
       "        (conv2): Conv2d(256, 256, kernel_size=(3, 3), stride=(1, 1), padding=(1, 1), bias=False)\n",
       "        (bn2): BatchNorm2d(256, eps=1e-05, momentum=0.1, affine=True, track_running_stats=True)\n",
       "        (act2): ReLU(inplace=True)\n",
       "        (downsample): Sequential(\n",
       "          (0): Conv2d(128, 256, kernel_size=(1, 1), stride=(2, 2), bias=False)\n",
       "          (1): BatchNorm2d(256, eps=1e-05, momentum=0.1, affine=True, track_running_stats=True)\n",
       "        )\n",
       "      )\n",
       "      (1): BasicBlock(\n",
       "        (conv1): Conv2d(256, 256, kernel_size=(3, 3), stride=(1, 1), padding=(1, 1), bias=False)\n",
       "        (bn1): BatchNorm2d(256, eps=1e-05, momentum=0.1, affine=True, track_running_stats=True)\n",
       "        (drop_block): Identity()\n",
       "        (act1): ReLU(inplace=True)\n",
       "        (aa): Identity()\n",
       "        (conv2): Conv2d(256, 256, kernel_size=(3, 3), stride=(1, 1), padding=(1, 1), bias=False)\n",
       "        (bn2): BatchNorm2d(256, eps=1e-05, momentum=0.1, affine=True, track_running_stats=True)\n",
       "        (act2): ReLU(inplace=True)\n",
       "      )\n",
       "    )\n",
       "    (layer4): Sequential(\n",
       "      (0): BasicBlock(\n",
       "        (conv1): Conv2d(256, 512, kernel_size=(3, 3), stride=(2, 2), padding=(1, 1), bias=False)\n",
       "        (bn1): BatchNorm2d(512, eps=1e-05, momentum=0.1, affine=True, track_running_stats=True)\n",
       "        (drop_block): Identity()\n",
       "        (act1): ReLU(inplace=True)\n",
       "        (aa): Identity()\n",
       "        (conv2): Conv2d(512, 512, kernel_size=(3, 3), stride=(1, 1), padding=(1, 1), bias=False)\n",
       "        (bn2): BatchNorm2d(512, eps=1e-05, momentum=0.1, affine=True, track_running_stats=True)\n",
       "        (act2): ReLU(inplace=True)\n",
       "        (downsample): Sequential(\n",
       "          (0): Conv2d(256, 512, kernel_size=(1, 1), stride=(2, 2), bias=False)\n",
       "          (1): BatchNorm2d(512, eps=1e-05, momentum=0.1, affine=True, track_running_stats=True)\n",
       "        )\n",
       "      )\n",
       "      (1): BasicBlock(\n",
       "        (conv1): Conv2d(512, 512, kernel_size=(3, 3), stride=(1, 1), padding=(1, 1), bias=False)\n",
       "        (bn1): BatchNorm2d(512, eps=1e-05, momentum=0.1, affine=True, track_running_stats=True)\n",
       "        (drop_block): Identity()\n",
       "        (act1): ReLU(inplace=True)\n",
       "        (aa): Identity()\n",
       "        (conv2): Conv2d(512, 512, kernel_size=(3, 3), stride=(1, 1), padding=(1, 1), bias=False)\n",
       "        (bn2): BatchNorm2d(512, eps=1e-05, momentum=0.1, affine=True, track_running_stats=True)\n",
       "        (act2): ReLU(inplace=True)\n",
       "      )\n",
       "    )\n",
       "    (global_pool): SelectAdaptivePool2d(pool_type=, flatten=Identity())\n",
       "    (fc): Sequential(\n",
       "      (0): Flatten(start_dim=1, end_dim=-1)\n",
       "      (1): Sequential(\n",
       "        (linear_25088_2048): Sequential(\n",
       "          (0): Linear(in_features=25088, out_features=2048, bias=False)\n",
       "          (1): BatchNorm1d(2048, eps=1e-05, momentum=0.1, affine=True, track_running_stats=True)\n",
       "          (2): LeakyReLU(negative_slope=0.1)\n",
       "          (3): Dropout(p=0.2, inplace=False)\n",
       "        )\n",
       "        (linear_2048_490): Sequential(\n",
       "          (0): Linear(in_features=2048, out_features=490, bias=False)\n",
       "          (1): BatchNorm1d(490, eps=1e-05, momentum=0.1, affine=True, track_running_stats=True)\n",
       "          (2): LeakyReLU(negative_slope=0.1)\n",
       "          (3): Dropout(p=0.2, inplace=False)\n",
       "        )\n",
       "      )\n",
       "      (2): Unflatten(dim=1, unflattened_size=(7, 7, 10))\n",
       "    )\n",
       "  )\n",
       ")"
      ]
     },
     "execution_count": 76,
     "metadata": {},
     "output_type": "execute_result"
    }
   ],
   "source": [
    "model"
   ]
  },
  {
   "cell_type": "code",
   "execution_count": null,
   "id": "aa206afa-4ca9-4c5f-8df6-23a9fcb0f022",
   "metadata": {},
   "outputs": [],
   "source": []
  },
  {
   "cell_type": "code",
   "execution_count": 77,
   "id": "6eb53799-4a61-41c9-a50b-13e5306a69b8",
   "metadata": {},
   "outputs": [],
   "source": [
    "from yolov1.utils.general import count_parameters"
   ]
  },
  {
   "cell_type": "code",
   "execution_count": 78,
   "id": "2b5f774d-4552-4056-b1e0-e4c9138872aa",
   "metadata": {},
   "outputs": [
    {
     "data": {
      "text/plain": [
       "63565332"
      ]
     },
     "execution_count": 78,
     "metadata": {},
     "output_type": "execute_result"
    }
   ],
   "source": [
    "count_parameters(model)"
   ]
  },
  {
   "cell_type": "code",
   "execution_count": 71,
   "id": "82de87df-ae4e-4f1c-9f98-5c2d4fc138b4",
   "metadata": {},
   "outputs": [
    {
     "data": {
      "text/plain": [
       "52388820"
      ]
     },
     "execution_count": 71,
     "metadata": {},
     "output_type": "execute_result"
    }
   ],
   "source": [
    "count_parameters(model)"
   ]
  },
  {
   "cell_type": "code",
   "execution_count": 63,
   "id": "fbe71aa3-0dc2-4375-a670-ad373705fa3f",
   "metadata": {},
   "outputs": [],
   "source": [
    "out = model(torch.rand([2, 3, 224, 224]))"
   ]
  },
  {
   "cell_type": "code",
   "execution_count": 64,
   "id": "d20ef398-a262-4d18-8645-a5292da2624e",
   "metadata": {},
   "outputs": [
    {
     "data": {
      "text/plain": [
       "torch.Size([2, 7, 7, 10])"
      ]
     },
     "execution_count": 64,
     "metadata": {},
     "output_type": "execute_result"
    }
   ],
   "source": [
    "out.shape"
   ]
  },
  {
   "cell_type": "code",
   "execution_count": 15,
   "id": "5a7f142e-123c-4923-9d37-2d1f8ebbde41",
   "metadata": {},
   "outputs": [],
   "source": [
    "import math"
   ]
  },
  {
   "cell_type": "code",
   "execution_count": 16,
   "id": "3740ab97-0dc0-4cde-9d96-8207c4308c75",
   "metadata": {},
   "outputs": [
    {
     "name": "stdout",
     "output_type": "stream",
     "text": [
      "Loading pretrained weights from Hugging Face hub (timm/resnet50.a1_in1k)\n",
      "[timm/resnet50.a1_in1k] Safe alternative available for 'pytorch_model.bin' (as 'model.safetensors'). Loading weights using safetensors.\n"
     ]
    }
   ],
   "source": [
    "backbone = BackboneFactory.create_backbone(\"resnet50\",\n",
    "                                           pretrained=True,\n",
    "                                          num_classes=0, global_pool=\"\")"
   ]
  },
  {
   "cell_type": "code",
   "execution_count": 17,
   "id": "a7e87485-32a4-47df-9daa-6a36b6978a1d",
   "metadata": {},
   "outputs": [],
   "source": [
    "backbone_out_scale = math.ceil(448 / 32)"
   ]
  },
  {
   "cell_type": "code",
   "execution_count": 18,
   "id": "11f3d08f-4331-4c8f-aa13-18abac64bfef",
   "metadata": {},
   "outputs": [
    {
     "data": {
      "text/plain": [
       "14"
      ]
     },
     "execution_count": 18,
     "metadata": {},
     "output_type": "execute_result"
    }
   ],
   "source": [
    "backbone_out_scale"
   ]
  },
  {
   "cell_type": "code",
   "execution_count": 19,
   "id": "f037e3fc-7552-4a7a-9778-7ef0e40213e1",
   "metadata": {},
   "outputs": [],
   "source": [
    "detector_hidden_sizes= [1024, 512]"
   ]
  },
  {
   "cell_type": "code",
   "execution_count": 20,
   "id": "56ca4620-a4da-4c53-9029-2b28d20fe854",
   "metadata": {},
   "outputs": [],
   "source": [
    "backbone_out_units = 2048 * \\\n",
    "    (backbone_out_scale) ** 2\n",
    "detector = nn.Sequential(\n",
    "    nn.Flatten(),\n",
    "    nn.Linear(backbone_out_units, detector_hidden_sizes[0]),\n",
    "    nn.LeakyReLU(0.1),\n",
    "    nn.Dropout(0.2),\n",
    "    nn.Linear(detector_hidden_sizes[0], detector_hidden_sizes[1]),\n",
    "    # nn.BatchNorm1d(detector_hidden_sizes[1]),\n",
    "    nn.LeakyReLU(0.1),\n",
    "    nn.Dropout(0.2),\n",
    "    nn.Linear(detector_hidden_sizes[1], config.model.S * config.model.S * (config.model.B * 5 + config.model.nc)),\n",
    "    # YOLOOutputLayer(),\n",
    ")"
   ]
  },
  {
   "cell_type": "code",
   "execution_count": 99,
   "id": "03393507-8701-4bf6-a1dd-dcaaf87e9cb7",
   "metadata": {},
   "outputs": [
    {
     "data": {
      "text/plain": [
       "Sequential(\n",
       "  (0): Flatten(start_dim=1, end_dim=-1)\n",
       "  (1): Linear(in_features=401408, out_features=1024, bias=True)\n",
       "  (2): LeakyReLU(negative_slope=0.1)\n",
       "  (3): Dropout(p=0.2, inplace=False)\n",
       "  (4): Linear(in_features=1024, out_features=512, bias=True)\n",
       "  (5): LeakyReLU(negative_slope=0.1)\n",
       "  (6): Dropout(p=0.2, inplace=False)\n",
       "  (7): Linear(in_features=512, out_features=490, bias=True)\n",
       ")"
      ]
     },
     "execution_count": 99,
     "metadata": {},
     "output_type": "execute_result"
    }
   ],
   "source": [
    "detector"
   ]
  },
  {
   "cell_type": "code",
   "execution_count": 105,
   "id": "67fbca17-3685-4c5a-bb7e-c48b111978aa",
   "metadata": {},
   "outputs": [],
   "source": [
    "backbone.fc = detector"
   ]
  },
  {
   "cell_type": "code",
   "execution_count": 106,
   "id": "467a6d7f-210e-4a54-a282-75b45c756d97",
   "metadata": {},
   "outputs": [],
   "source": [
    "out = backbone(torch.rand([2, 3, 448, 448]))"
   ]
  },
  {
   "cell_type": "code",
   "execution_count": 79,
   "id": "a67ce788-d84f-436f-b949-5e57a5222456",
   "metadata": {},
   "outputs": [
    {
     "data": {
      "text/plain": [
       "torch.Size([2, 7, 7, 10])"
      ]
     },
     "execution_count": 79,
     "metadata": {},
     "output_type": "execute_result"
    }
   ],
   "source": [
    "out.shape"
   ]
  },
  {
   "cell_type": "code",
   "execution_count": null,
   "id": "d6b99cd2-e907-4a1a-b4ac-d6cc71b9d4b5",
   "metadata": {},
   "outputs": [],
   "source": []
  }
 ],
 "metadata": {
  "kernelspec": {
   "display_name": "Python 3 (ipykernel)",
   "language": "python",
   "name": "python3"
  },
  "language_info": {
   "codemirror_mode": {
    "name": "ipython",
    "version": 3
   },
   "file_extension": ".py",
   "mimetype": "text/x-python",
   "name": "python",
   "nbconvert_exporter": "python",
   "pygments_lexer": "ipython3",
   "version": "3.9.2"
  }
 },
 "nbformat": 4,
 "nbformat_minor": 5
}
